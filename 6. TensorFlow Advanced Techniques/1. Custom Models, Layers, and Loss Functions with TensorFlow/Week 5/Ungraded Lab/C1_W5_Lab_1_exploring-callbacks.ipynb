{
 "cells": [
  {
   "cell_type": "markdown",
   "metadata": {
    "colab_type": "text",
    "id": "view-in-github"
   },
   "source": [
    "<a href=\"https://colab.research.google.com/github/https-deeplearning-ai/tensorflow-3-public/blob/main/Course%201%20-%20Custom%20Models%2C%20Layers%20and%20Loss%20Functions/Week%205%20-%20Callbacks/C1_W5_Lab_1_exploring-callbacks.ipynb\" target=\"_parent\"><img src=\"https://colab.research.google.com/assets/colab-badge.svg\" alt=\"Open In Colab\"/></a>"
   ]
  },
  {
   "cell_type": "markdown",
   "metadata": {
    "colab_type": "text",
    "id": "0c_TYhQOUe1j"
   },
   "source": [
    "# Ungraded Lab: Introduction to Keras callbacks\n",
    "\n",
    "In Keras, `Callback` is a Python class meant to be subclassed to provide specific functionality, with a set of methods called at various stages of training (including batch/epoch start and ends), testing, and predicting. Callbacks are useful to get a view on internal states and statistics of the model during training. The methods of the callbacks can  be called at different stages of training/evaluating/inference. Keras has available [callbacks](https://keras.io/api/callbacks/) and we'll show how you can use it in the following sections. Please click the **Open in Colab** badge above to complete this exercise in Colab. This will allow you to take advantage of the free GPU runtime (for faster training) and compatibility with all the packages needed in this notebook."
   ]
  },
  {
   "cell_type": "markdown",
   "metadata": {
    "colab_type": "text",
    "id": "Uyl69EyRQx-f"
   },
   "source": [
    "## Model methods that take callbacks\n",
    "Users can supply a list of callbacks to the following `tf.keras.Model` methods:\n",
    "* [`fit()`](https://www.tensorflow.org/versions/r2.0/api_docs/python/tf/keras/Model#fit), [`fit_generator()`](https://www.tensorflow.org/versions/r2.0/api_docs/python/tf/keras/Model#fit_generator)\n",
    "Trains the model for a fixed number of epochs (iterations over a dataset, or data yielded batch-by-batch by a Python generator).\n",
    "* [`evaluate()`](https://www.tensorflow.org/versions/r2.0/api_docs/python/tf/keras/Model#evaluate), [`evaluate_generator()`](https://www.tensorflow.org/versions/r2.0/api_docs/python/tf/keras/Model#evaluate_generator)\n",
    "Evaluates the model for given data or data generator. Outputs the loss and metric values from the evaluation.\n",
    "* [`predict()`](https://www.tensorflow.org/versions/r2.0/api_docs/python/tf/keras/Model#predict), [`predict_generator()`](https://www.tensorflow.org/versions/r2.0/api_docs/python/tf/keras/Model#predict_generator)\n",
    "Generates output predictions for the input data or data generator."
   ]
  },
  {
   "cell_type": "markdown",
   "metadata": {},
   "source": [
    "## Imports"
   ]
  },
  {
   "cell_type": "code",
   "execution_count": 1,
   "metadata": {
    "colab": {},
    "colab_type": "code",
    "id": "AlT1Kh3uA9lZ"
   },
   "outputs": [
    {
     "name": "stdout",
     "output_type": "stream",
     "text": [
      "Version:  2.1.0\n"
     ]
    }
   ],
   "source": [
    "from __future__ import absolute_import, division, print_function, unicode_literals\n",
    "\n",
    "try:\n",
    "    # %tensorflow_version only exists in Colab.\n",
    "    %tensorflow_version 2.x\n",
    "except Exception:\n",
    "    pass\n",
    "\n",
    "import tensorflow as tf\n",
    "import tensorflow_datasets as tfds\n",
    "import matplotlib.pyplot as plt\n",
    "import io\n",
    "from PIL import Image\n",
    "\n",
    "from tensorflow.keras.callbacks import TensorBoard, EarlyStopping, LearningRateScheduler, ModelCheckpoint, CSVLogger, ReduceLROnPlateau\n",
    "%load_ext tensorboard\n",
    "\n",
    "import os\n",
    "import matplotlib.pylab as plt\n",
    "import numpy as np\n",
    "import math\n",
    "import datetime\n",
    "import pandas as pd\n",
    "\n",
    "print(\"Version: \", tf.__version__)\n",
    "tf.get_logger().setLevel('INFO')"
   ]
  },
  {
   "cell_type": "markdown",
   "metadata": {
    "colab_type": "text",
    "id": "HnSljqtsXKfb"
   },
   "source": [
    "# Examples of Keras callback applications\n",
    "The following section will guide you through creating simple [Callback](https://keras.io/api/callbacks/) applications."
   ]
  },
  {
   "cell_type": "code",
   "execution_count": 2,
   "metadata": {
    "colab": {},
    "colab_type": "code",
    "id": "spskRuxvCYQE"
   },
   "outputs": [],
   "source": [
    "# Download and prepare the horses or humans dataset\n",
    "\n",
    "# horses_or_humans 3.0.0 has already been downloaded for you\n",
    "path = \"./tensorflow_datasets\"\n",
    "splits, info = tfds.load('horses_or_humans', data_dir=path, as_supervised=True, with_info=True, split=['train[:80%]', 'train[80%:]', 'test'])\n",
    "\n",
    "(train_examples, validation_examples, test_examples) = splits\n",
    "\n",
    "num_examples = info.splits['train'].num_examples\n",
    "num_classes = info.features['label'].num_classes"
   ]
  },
  {
   "cell_type": "code",
   "execution_count": 3,
   "metadata": {
    "colab": {},
    "colab_type": "code",
    "id": "veIsubKTCZsN"
   },
   "outputs": [],
   "source": [
    "SIZE = 150 #@param {type:\"slider\", min:64, max:300, step:1}\n",
    "IMAGE_SIZE = (SIZE, SIZE)"
   ]
  },
  {
   "cell_type": "code",
   "execution_count": 4,
   "metadata": {
    "colab": {},
    "colab_type": "code",
    "id": "faajLlErCb1S"
   },
   "outputs": [],
   "source": [
    "def format_image(image, label):\n",
    "  image = tf.image.resize(image, IMAGE_SIZE) / 255.0\n",
    "  return  image, label"
   ]
  },
  {
   "cell_type": "code",
   "execution_count": 5,
   "metadata": {
    "colab": {},
    "colab_type": "code",
    "id": "AVXPuU12Cdka"
   },
   "outputs": [],
   "source": [
    "BATCH_SIZE = 32 #@param {type:\"integer\"}"
   ]
  },
  {
   "cell_type": "code",
   "execution_count": 6,
   "metadata": {
    "colab": {},
    "colab_type": "code",
    "id": "0lHDkFVaCe48"
   },
   "outputs": [],
   "source": [
    "train_batches = train_examples.shuffle(num_examples // 4).map(format_image).batch(BATCH_SIZE).prefetch(1)\n",
    "validation_batches = validation_examples.map(format_image).batch(BATCH_SIZE).prefetch(1)\n",
    "test_batches = test_examples.map(format_image).batch(1)"
   ]
  },
  {
   "cell_type": "code",
   "execution_count": 7,
   "metadata": {
    "colab": {},
    "colab_type": "code",
    "id": "DxsCqEIkCgUt"
   },
   "outputs": [
    {
     "data": {
      "text/plain": [
       "TensorShape([32, 150, 150, 3])"
      ]
     },
     "execution_count": 7,
     "metadata": {},
     "output_type": "execute_result"
    }
   ],
   "source": [
    "for image_batch, label_batch in train_batches.take(1):\n",
    "  pass\n",
    "\n",
    "image_batch.shape"
   ]
  },
  {
   "cell_type": "code",
   "execution_count": 8,
   "metadata": {
    "colab": {},
    "colab_type": "code",
    "id": "iDBpWvHXCh2A"
   },
   "outputs": [],
   "source": [
    "def build_model(dense_units, input_shape=IMAGE_SIZE + (3,)):\n",
    "  model = tf.keras.models.Sequential([\n",
    "      tf.keras.layers.Conv2D(16, (3, 3), activation='relu', input_shape=input_shape),\n",
    "      tf.keras.layers.MaxPooling2D(2, 2),\n",
    "      tf.keras.layers.Conv2D(32, (3, 3), activation='relu'),\n",
    "      tf.keras.layers.MaxPooling2D(2, 2),\n",
    "      tf.keras.layers.Conv2D(64, (3, 3), activation='relu'),\n",
    "      tf.keras.layers.MaxPooling2D(2, 2),\n",
    "      tf.keras.layers.Flatten(),\n",
    "      tf.keras.layers.Dense(dense_units, activation='relu'),\n",
    "      tf.keras.layers.Dense(2, activation='softmax')\n",
    "  ])\n",
    "  return model"
   ]
  },
  {
   "cell_type": "markdown",
   "metadata": {
    "colab_type": "text",
    "id": "0ZKGkjagENSw"
   },
   "source": [
    "## [TensorBoard](https://keras.io/api/callbacks/tensorboard/)\n",
    "\n",
    "Enable visualizations for TensorBoard."
   ]
  },
  {
   "cell_type": "code",
   "execution_count": 9,
   "metadata": {
    "colab": {},
    "colab_type": "code",
    "id": "CeiD2WVEHbex"
   },
   "outputs": [],
   "source": [
    "!rm -rf logs"
   ]
  },
  {
   "cell_type": "code",
   "execution_count": 10,
   "metadata": {
    "colab": {},
    "colab_type": "code",
    "id": "PpLwPLnAEOzv"
   },
   "outputs": [
    {
     "name": "stdout",
     "output_type": "stream",
     "text": [
      "Epoch 1/10\n",
      "26/26 [==============================] - 20s 761ms/step - loss: 0.6780 - accuracy: 0.5645 - val_loss: 0.6419 - val_accuracy: 0.7415\n",
      "Epoch 2/10\n",
      "26/26 [==============================] - 19s 727ms/step - loss: 0.6194 - accuracy: 0.6873 - val_loss: 0.5989 - val_accuracy: 0.6927\n",
      "Epoch 3/10\n",
      "26/26 [==============================] - 19s 731ms/step - loss: 0.5901 - accuracy: 0.6959 - val_loss: 0.6148 - val_accuracy: 0.5854\n",
      "Epoch 4/10\n",
      "26/26 [==============================] - 19s 723ms/step - loss: 0.5168 - accuracy: 0.7749 - val_loss: 0.4940 - val_accuracy: 0.7268\n",
      "Epoch 5/10\n",
      "26/26 [==============================] - 19s 719ms/step - loss: 0.4771 - accuracy: 0.7993 - val_loss: 0.3965 - val_accuracy: 0.9463\n",
      "Epoch 6/10\n",
      "26/26 [==============================] - 19s 720ms/step - loss: 0.3853 - accuracy: 0.8735 - val_loss: 0.4177 - val_accuracy: 0.8049\n",
      "Epoch 7/10\n",
      "26/26 [==============================] - 22s 852ms/step - loss: 0.3788 - accuracy: 0.8613 - val_loss: 0.2565 - val_accuracy: 0.9610\n",
      "Epoch 8/10\n",
      "26/26 [==============================] - 19s 741ms/step - loss: 0.2491 - accuracy: 0.9380 - val_loss: 0.2135 - val_accuracy: 0.9512\n",
      "Epoch 9/10\n",
      "26/26 [==============================] - 19s 719ms/step - loss: 0.2074 - accuracy: 0.9404 - val_loss: 0.1504 - val_accuracy: 0.9805\n",
      "Epoch 10/10\n",
      "26/26 [==============================] - 19s 723ms/step - loss: 0.1741 - accuracy: 0.9538 - val_loss: 0.2082 - val_accuracy: 0.9122\n"
     ]
    },
    {
     "data": {
      "text/plain": [
       "<tensorflow.python.keras.callbacks.History at 0x7c0554711210>"
      ]
     },
     "execution_count": 10,
     "metadata": {},
     "output_type": "execute_result"
    }
   ],
   "source": [
    "model = build_model(dense_units=256)\n",
    "model.compile(\n",
    "    optimizer='sgd',\n",
    "    loss='sparse_categorical_crossentropy', \n",
    "    metrics=['accuracy'])\n",
    "  \n",
    "logdir = os.path.join(\"logs\", datetime.datetime.now().strftime(\"%Y%m%d-%H%M%S\"))\n",
    "tensorboard_callback = tf.keras.callbacks.TensorBoard(logdir)\n",
    "\n",
    "model.fit(train_batches, \n",
    "          epochs=10, \n",
    "          validation_data=validation_batches, \n",
    "          callbacks=[tensorboard_callback])"
   ]
  },
  {
   "cell_type": "code",
   "execution_count": 11,
   "metadata": {
    "colab": {},
    "colab_type": "code",
    "id": "iJunWOjZE0ir"
   },
   "outputs": [
    {
     "data": {
      "text/html": [
       "\n",
       "      <iframe id=\"tensorboard-frame-3ee874d0a49f1ab8\" width=\"100%\" height=\"800\" frameborder=\"0\">\n",
       "      </iframe>\n",
       "      <script>\n",
       "        (function() {\n",
       "          const frame = document.getElementById(\"tensorboard-frame-3ee874d0a49f1ab8\");\n",
       "          const url = new URL(\"/\", window.location);\n",
       "          url.port = 6006;\n",
       "          frame.src = url;\n",
       "        })();\n",
       "      </script>\n",
       "  "
      ],
      "text/plain": [
       "<IPython.core.display.HTML object>"
      ]
     },
     "metadata": {},
     "output_type": "display_data"
    }
   ],
   "source": [
    "%tensorboard --logdir logs"
   ]
  },
  {
   "cell_type": "markdown",
   "metadata": {
    "colab_type": "text",
    "id": "wv9H4Pc2Mfl7"
   },
   "source": [
    "## [Model Checkpoint](https://keras.io/api/callbacks/model_checkpoint/)\n",
    "\n",
    "Callback to save the Keras model or model weights at some frequency."
   ]
  },
  {
   "cell_type": "code",
   "execution_count": 12,
   "metadata": {
    "colab": {},
    "colab_type": "code",
    "id": "PYV4FJ8iMmDq"
   },
   "outputs": [
    {
     "name": "stdout",
     "output_type": "stream",
     "text": [
      "Epoch 1/5\n",
      "\n",
      "Epoch 00001: saving model to weights.01-0.66.h5\n",
      "26/26 - 21s - loss: 0.6750 - accuracy: 0.5487 - val_loss: 0.6597 - val_accuracy: 0.5561\n",
      "Epoch 2/5\n",
      "\n",
      "Epoch 00002: saving model to weights.02-0.60.h5\n",
      "26/26 - 19s - loss: 0.6238 - accuracy: 0.7092 - val_loss: 0.5974 - val_accuracy: 0.6732\n",
      "Epoch 3/5\n",
      "\n",
      "Epoch 00003: saving model to weights.03-0.61.h5\n",
      "26/26 - 19s - loss: 0.5767 - accuracy: 0.7287 - val_loss: 0.6099 - val_accuracy: 0.6098\n",
      "Epoch 4/5\n",
      "\n",
      "Epoch 00004: saving model to weights.04-0.47.h5\n",
      "26/26 - 19s - loss: 0.5234 - accuracy: 0.7603 - val_loss: 0.4704 - val_accuracy: 0.8390\n",
      "Epoch 5/5\n",
      "\n",
      "Epoch 00005: saving model to weights.05-0.43.h5\n",
      "26/26 - 19s - loss: 0.4870 - accuracy: 0.7944 - val_loss: 0.4313 - val_accuracy: 0.7951\n"
     ]
    },
    {
     "data": {
      "text/plain": [
       "<tensorflow.python.keras.callbacks.History at 0x7c05f3e0bcd0>"
      ]
     },
     "execution_count": 12,
     "metadata": {},
     "output_type": "execute_result"
    }
   ],
   "source": [
    "model = build_model(dense_units=256)\n",
    "model.compile(\n",
    "    optimizer='sgd',\n",
    "    loss='sparse_categorical_crossentropy', \n",
    "    metrics=['accuracy'])\n",
    "  \n",
    "model.fit(train_batches, \n",
    "          epochs=5, \n",
    "          validation_data=validation_batches, \n",
    "          verbose=2,\n",
    "          callbacks=[ModelCheckpoint('weights.{epoch:02d}-{val_loss:.2f}.h5', verbose=1),\n",
    "          ])"
   ]
  },
  {
   "cell_type": "code",
   "execution_count": 13,
   "metadata": {
    "colab": {},
    "colab_type": "code",
    "id": "oGvjQ8IlMmK6"
   },
   "outputs": [
    {
     "name": "stdout",
     "output_type": "stream",
     "text": [
      "\n",
      "Epoch 00001: saving model to saved_model\n",
      "WARNING:tensorflow:From /opt/conda/lib/python3.7/site-packages/tensorflow_core/python/ops/resource_variable_ops.py:1786: calling BaseResourceVariable.__init__ (from tensorflow.python.ops.resource_variable_ops) with constraint is deprecated and will be removed in a future version.\n",
      "Instructions for updating:\n",
      "If using Keras pass *_constraint arguments to layers.\n"
     ]
    },
    {
     "name": "stderr",
     "output_type": "stream",
     "text": [
      "WARNING:tensorflow:From /opt/conda/lib/python3.7/site-packages/tensorflow_core/python/ops/resource_variable_ops.py:1786: calling BaseResourceVariable.__init__ (from tensorflow.python.ops.resource_variable_ops) with constraint is deprecated and will be removed in a future version.\n",
      "Instructions for updating:\n",
      "If using Keras pass *_constraint arguments to layers.\n"
     ]
    },
    {
     "name": "stdout",
     "output_type": "stream",
     "text": [
      "INFO:tensorflow:Assets written to: saved_model/assets\n"
     ]
    },
    {
     "name": "stderr",
     "output_type": "stream",
     "text": [
      "INFO:tensorflow:Assets written to: saved_model/assets\n"
     ]
    },
    {
     "name": "stdout",
     "output_type": "stream",
     "text": [
      "26/26 - 22s - loss: 0.6723 - accuracy: 0.5961 - val_loss: 0.6719 - val_accuracy: 0.5171\n"
     ]
    },
    {
     "data": {
      "text/plain": [
       "<tensorflow.python.keras.callbacks.History at 0x7c05f3c87a90>"
      ]
     },
     "execution_count": 13,
     "metadata": {},
     "output_type": "execute_result"
    }
   ],
   "source": [
    "model = build_model(dense_units=256)\n",
    "model.compile(\n",
    "    optimizer='sgd',\n",
    "    loss='sparse_categorical_crossentropy', \n",
    "    metrics=['accuracy'])\n",
    "  \n",
    "model.fit(train_batches, \n",
    "          epochs=1, \n",
    "          validation_data=validation_batches, \n",
    "          verbose=2,\n",
    "          callbacks=[ModelCheckpoint('saved_model', verbose=1)\n",
    "          ])"
   ]
  },
  {
   "cell_type": "code",
   "execution_count": 14,
   "metadata": {
    "colab": {},
    "colab_type": "code",
    "id": "Y1ConwoB0EjD"
   },
   "outputs": [
    {
     "name": "stdout",
     "output_type": "stream",
     "text": [
      "Epoch 1/2\n",
      "\n",
      "Epoch 00001: saving model to model.h5\n",
      "26/26 - 19s - loss: 0.6722 - accuracy: 0.5766 - val_loss: 0.6911 - val_accuracy: 0.4439\n",
      "Epoch 2/2\n",
      "\n",
      "Epoch 00002: saving model to model.h5\n",
      "26/26 - 19s - loss: 0.6362 - accuracy: 0.6582 - val_loss: 0.6771 - val_accuracy: 0.4732\n"
     ]
    },
    {
     "data": {
      "text/plain": [
       "<tensorflow.python.keras.callbacks.History at 0x7c05f3a49a90>"
      ]
     },
     "execution_count": 14,
     "metadata": {},
     "output_type": "execute_result"
    }
   ],
   "source": [
    "model = build_model(dense_units=256)\n",
    "model.compile(\n",
    "    optimizer='sgd',\n",
    "    loss='sparse_categorical_crossentropy', \n",
    "    metrics=['accuracy'])\n",
    "  \n",
    "model.fit(train_batches, \n",
    "          epochs=2, \n",
    "          validation_data=validation_batches, \n",
    "          verbose=2,\n",
    "          callbacks=[ModelCheckpoint('model.h5', verbose=1)\n",
    "          ])"
   ]
  },
  {
   "cell_type": "markdown",
   "metadata": {
    "colab_type": "text",
    "id": "kptNF0--Lznv"
   },
   "source": [
    "## [Early stopping](https://keras.io/api/callbacks/early_stopping/)\n",
    "\n",
    "Stop training when a monitored metric has stopped improving."
   ]
  },
  {
   "cell_type": "code",
   "execution_count": 15,
   "metadata": {
    "colab": {},
    "colab_type": "code",
    "id": "KJOJTJYdCkdY"
   },
   "outputs": [
    {
     "name": "stdout",
     "output_type": "stream",
     "text": [
      "Epoch 1/50\n",
      "26/26 - 19s - loss: 0.6766 - accuracy: 0.5620 - val_loss: 0.6624 - val_accuracy: 0.5024\n",
      "Epoch 2/50\n",
      "26/26 - 19s - loss: 0.6297 - accuracy: 0.6606 - val_loss: 0.6009 - val_accuracy: 0.8439\n",
      "Epoch 3/50\n",
      "26/26 - 19s - loss: 0.5671 - accuracy: 0.7689 - val_loss: 0.5639 - val_accuracy: 0.7220\n",
      "Epoch 4/50\n",
      "26/26 - 19s - loss: 0.5423 - accuracy: 0.7603 - val_loss: 0.5002 - val_accuracy: 0.8195\n",
      "Epoch 5/50\n",
      "26/26 - 19s - loss: 0.4714 - accuracy: 0.8066 - val_loss: 0.5678 - val_accuracy: 0.6634\n",
      "Epoch 6/50\n",
      "26/26 - 19s - loss: 0.4125 - accuracy: 0.8321 - val_loss: 0.3448 - val_accuracy: 0.8878\n",
      "Epoch 7/50\n",
      "26/26 - 19s - loss: 0.3481 - accuracy: 0.8674 - val_loss: 0.2772 - val_accuracy: 0.9171\n",
      "Epoch 8/50\n",
      "26/26 - 19s - loss: 0.3090 - accuracy: 0.8735 - val_loss: 0.2575 - val_accuracy: 0.9171\n",
      "Epoch 9/50\n",
      "26/26 - 19s - loss: 0.2915 - accuracy: 0.8844 - val_loss: 0.2211 - val_accuracy: 0.9268\n",
      "Epoch 10/50\n",
      "26/26 - 19s - loss: 0.1910 - accuracy: 0.9538 - val_loss: 0.1461 - val_accuracy: 0.9902\n",
      "Epoch 11/50\n",
      "26/26 - 18s - loss: 0.1743 - accuracy: 0.9513 - val_loss: 0.1322 - val_accuracy: 0.9854\n",
      "Epoch 12/50\n",
      "26/26 - 19s - loss: 0.1359 - accuracy: 0.9647 - val_loss: 0.1221 - val_accuracy: 0.9707\n",
      "Epoch 13/50\n",
      "26/26 - 19s - loss: 0.1105 - accuracy: 0.9793 - val_loss: 0.0919 - val_accuracy: 0.9805\n",
      "Epoch 14/50\n",
      "26/26 - 19s - loss: 0.0913 - accuracy: 0.9805 - val_loss: 0.0743 - val_accuracy: 0.9902\n",
      "Epoch 15/50\n",
      "26/26 - 19s - loss: 0.0768 - accuracy: 0.9854 - val_loss: 0.1166 - val_accuracy: 0.9756\n",
      "Epoch 16/50\n",
      "Restoring model weights from the end of the best epoch.\n",
      "26/26 - 19s - loss: 0.0744 - accuracy: 0.9818 - val_loss: 0.0648 - val_accuracy: 0.9902\n",
      "Epoch 00016: early stopping\n"
     ]
    },
    {
     "data": {
      "text/plain": [
       "<tensorflow.python.keras.callbacks.History at 0x7c05f391a1d0>"
      ]
     },
     "execution_count": 15,
     "metadata": {},
     "output_type": "execute_result"
    }
   ],
   "source": [
    "model = build_model(dense_units=256)\n",
    "model.compile(\n",
    "    optimizer='sgd',\n",
    "    loss='sparse_categorical_crossentropy', \n",
    "    metrics=['accuracy'])\n",
    "  \n",
    "model.fit(train_batches, \n",
    "          epochs=50, \n",
    "          validation_data=validation_batches, \n",
    "          verbose=2,\n",
    "          callbacks=[EarlyStopping(\n",
    "              patience=3,\n",
    "              min_delta=0.05,\n",
    "              baseline=0.8,\n",
    "              mode='min',\n",
    "              monitor='val_loss',\n",
    "              restore_best_weights=True,\n",
    "              verbose=1)\n",
    "          ])"
   ]
  },
  {
   "cell_type": "markdown",
   "metadata": {
    "colab_type": "text",
    "id": "8mDzWUD4Pqq5"
   },
   "source": [
    "## [CSV Logger](https://keras.io/api/callbacks/csv_logger/)\n",
    "\n",
    "Callback that streams epoch results to a CSV file."
   ]
  },
  {
   "cell_type": "code",
   "execution_count": 16,
   "metadata": {
    "colab": {},
    "colab_type": "code",
    "id": "cffnMpmGPtMh"
   },
   "outputs": [
    {
     "name": "stdout",
     "output_type": "stream",
     "text": [
      "Epoch 1/5\n",
      "26/26 [==============================] - 20s 786ms/step - loss: 0.6809 - accuracy: 0.5827 - val_loss: 0.6526 - val_accuracy: 0.5610\n",
      "Epoch 2/5\n",
      "26/26 [==============================] - 19s 722ms/step - loss: 0.6209 - accuracy: 0.6484 - val_loss: 0.6842 - val_accuracy: 0.5220\n",
      "Epoch 3/5\n",
      "26/26 [==============================] - 19s 734ms/step - loss: 0.5626 - accuracy: 0.6995 - val_loss: 0.5952 - val_accuracy: 0.6244\n",
      "Epoch 4/5\n",
      "26/26 [==============================] - 19s 727ms/step - loss: 0.5364 - accuracy: 0.7311 - val_loss: 0.5183 - val_accuracy: 0.7317\n",
      "Epoch 5/5\n",
      "26/26 [==============================] - 19s 734ms/step - loss: 0.4954 - accuracy: 0.7774 - val_loss: 0.4335 - val_accuracy: 0.8439\n"
     ]
    },
    {
     "data": {
      "text/plain": [
       "<tensorflow.python.keras.callbacks.History at 0x7c05f383ed50>"
      ]
     },
     "execution_count": 16,
     "metadata": {},
     "output_type": "execute_result"
    }
   ],
   "source": [
    "model = build_model(dense_units=256)\n",
    "model.compile(\n",
    "    optimizer='sgd',\n",
    "    loss='sparse_categorical_crossentropy', \n",
    "    metrics=['accuracy'])\n",
    "  \n",
    "csv_file = 'training.csv'\n",
    "\n",
    "model.fit(train_batches, \n",
    "          epochs=5, \n",
    "          validation_data=validation_batches, \n",
    "          callbacks=[CSVLogger(csv_file)\n",
    "          ])"
   ]
  },
  {
   "cell_type": "code",
   "execution_count": 17,
   "metadata": {
    "colab": {},
    "colab_type": "code",
    "id": "B9tkYi03QV7R"
   },
   "outputs": [
    {
     "data": {
      "text/html": [
       "<div>\n",
       "<style scoped>\n",
       "    .dataframe tbody tr th:only-of-type {\n",
       "        vertical-align: middle;\n",
       "    }\n",
       "\n",
       "    .dataframe tbody tr th {\n",
       "        vertical-align: top;\n",
       "    }\n",
       "\n",
       "    .dataframe thead th {\n",
       "        text-align: right;\n",
       "    }\n",
       "</style>\n",
       "<table border=\"1\" class=\"dataframe\">\n",
       "  <thead>\n",
       "    <tr style=\"text-align: right;\">\n",
       "      <th></th>\n",
       "      <th>epoch</th>\n",
       "      <th>accuracy</th>\n",
       "      <th>loss</th>\n",
       "      <th>val_accuracy</th>\n",
       "      <th>val_loss</th>\n",
       "    </tr>\n",
       "  </thead>\n",
       "  <tbody>\n",
       "    <tr>\n",
       "      <th>0</th>\n",
       "      <td>0</td>\n",
       "      <td>0.582725</td>\n",
       "      <td>0.681768</td>\n",
       "      <td>0.560976</td>\n",
       "      <td>0.652648</td>\n",
       "    </tr>\n",
       "    <tr>\n",
       "      <th>1</th>\n",
       "      <td>1</td>\n",
       "      <td>0.648419</td>\n",
       "      <td>0.621119</td>\n",
       "      <td>0.521951</td>\n",
       "      <td>0.684248</td>\n",
       "    </tr>\n",
       "    <tr>\n",
       "      <th>2</th>\n",
       "      <td>2</td>\n",
       "      <td>0.699513</td>\n",
       "      <td>0.562351</td>\n",
       "      <td>0.624390</td>\n",
       "      <td>0.595198</td>\n",
       "    </tr>\n",
       "    <tr>\n",
       "      <th>3</th>\n",
       "      <td>3</td>\n",
       "      <td>0.731144</td>\n",
       "      <td>0.537310</td>\n",
       "      <td>0.731707</td>\n",
       "      <td>0.518253</td>\n",
       "    </tr>\n",
       "    <tr>\n",
       "      <th>4</th>\n",
       "      <td>4</td>\n",
       "      <td>0.777372</td>\n",
       "      <td>0.495695</td>\n",
       "      <td>0.843902</td>\n",
       "      <td>0.433505</td>\n",
       "    </tr>\n",
       "  </tbody>\n",
       "</table>\n",
       "</div>"
      ],
      "text/plain": [
       "   epoch  accuracy      loss  val_accuracy  val_loss\n",
       "0      0  0.582725  0.681768      0.560976  0.652648\n",
       "1      1  0.648419  0.621119      0.521951  0.684248\n",
       "2      2  0.699513  0.562351      0.624390  0.595198\n",
       "3      3  0.731144  0.537310      0.731707  0.518253\n",
       "4      4  0.777372  0.495695      0.843902  0.433505"
      ]
     },
     "execution_count": 17,
     "metadata": {},
     "output_type": "execute_result"
    }
   ],
   "source": [
    "pd.read_csv(csv_file).head()"
   ]
  },
  {
   "cell_type": "markdown",
   "metadata": {
    "colab_type": "text",
    "id": "Dt9C2Y9fRBKN"
   },
   "source": [
    "## [Learning Rate Scheduler](https://keras.io/api/callbacks/learning_rate_scheduler/)\n",
    "\n",
    "Updates the learning rate during training."
   ]
  },
  {
   "cell_type": "code",
   "execution_count": 18,
   "metadata": {
    "colab": {},
    "colab_type": "code",
    "id": "aJi-xY2VRC03"
   },
   "outputs": [
    {
     "name": "stdout",
     "output_type": "stream",
     "text": [
      "\n",
      "Epoch 00001: LearningRateScheduler reducing learning rate to 0.005.\n",
      "Epoch 1/5\n",
      "26/26 [==============================] - 30s 1s/step - loss: 0.6803 - accuracy: 0.5766 - val_loss: 0.6907 - val_accuracy: 0.4341\n",
      "\n",
      "Epoch 00002: LearningRateScheduler reducing learning rate to 0.0025.\n",
      "Epoch 2/5\n",
      "26/26 [==============================] - 19s 730ms/step - loss: 0.6635 - accuracy: 0.5401 - val_loss: 0.6708 - val_accuracy: 0.5463\n",
      "\n",
      "Epoch 00003: LearningRateScheduler reducing learning rate to 0.00125.\n",
      "Epoch 3/5\n",
      "26/26 [==============================] - 19s 723ms/step - loss: 0.6543 - accuracy: 0.6448 - val_loss: 0.6672 - val_accuracy: 0.5463\n",
      "\n",
      "Epoch 00004: LearningRateScheduler reducing learning rate to 0.000625.\n",
      "Epoch 4/5\n",
      "26/26 [==============================] - 19s 731ms/step - loss: 0.6493 - accuracy: 0.6375 - val_loss: 0.6645 - val_accuracy: 0.5659\n",
      "\n",
      "Epoch 00005: LearningRateScheduler reducing learning rate to 0.0003125.\n",
      "Epoch 5/5\n",
      "26/26 [==============================] - 19s 723ms/step - loss: 0.6467 - accuracy: 0.6533 - val_loss: 0.6634 - val_accuracy: 0.5707\n"
     ]
    },
    {
     "data": {
      "text/plain": [
       "<tensorflow.python.keras.callbacks.History at 0x7c05f0fecad0>"
      ]
     },
     "execution_count": 18,
     "metadata": {},
     "output_type": "execute_result"
    }
   ],
   "source": [
    "model = build_model(dense_units=256)\n",
    "model.compile(\n",
    "    optimizer='sgd',\n",
    "    loss='sparse_categorical_crossentropy', \n",
    "    metrics=['accuracy'])\n",
    "  \n",
    "def step_decay(epoch):\n",
    "\tinitial_lr = 0.01\n",
    "\tdrop = 0.5\n",
    "\tepochs_drop = 1\n",
    "\tlr = initial_lr * math.pow(drop, math.floor((1+epoch)/epochs_drop))\n",
    "\treturn lr\n",
    "\n",
    "model.fit(train_batches, \n",
    "          epochs=5, \n",
    "          validation_data=validation_batches, \n",
    "          callbacks=[LearningRateScheduler(step_decay, verbose=1),\n",
    "                    TensorBoard(log_dir='./log_dir')])"
   ]
  },
  {
   "cell_type": "code",
   "execution_count": 19,
   "metadata": {
    "colab": {},
    "colab_type": "code",
    "id": "M2S4n8nrbV91"
   },
   "outputs": [
    {
     "data": {
      "text/html": [
       "\n",
       "      <iframe id=\"tensorboard-frame-816c43c777f634a5\" width=\"100%\" height=\"800\" frameborder=\"0\">\n",
       "      </iframe>\n",
       "      <script>\n",
       "        (function() {\n",
       "          const frame = document.getElementById(\"tensorboard-frame-816c43c777f634a5\");\n",
       "          const url = new URL(\"/\", window.location);\n",
       "          url.port = 6007;\n",
       "          frame.src = url;\n",
       "        })();\n",
       "      </script>\n",
       "  "
      ],
      "text/plain": [
       "<IPython.core.display.HTML object>"
      ]
     },
     "metadata": {},
     "output_type": "display_data"
    }
   ],
   "source": [
    "%tensorboard --logdir log_dir"
   ]
  },
  {
   "cell_type": "markdown",
   "metadata": {
    "colab_type": "text",
    "id": "y0wcuQyJE_UK"
   },
   "source": [
    "## [ReduceLROnPlateau](https://keras.io/api/callbacks/reduce_lr_on_plateau/)\n",
    "\n",
    "Reduce learning rate when a metric has stopped improving."
   ]
  },
  {
   "cell_type": "code",
   "execution_count": 20,
   "metadata": {
    "colab": {},
    "colab_type": "code",
    "id": "4naxZ-eCFB27"
   },
   "outputs": [
    {
     "name": "stdout",
     "output_type": "stream",
     "text": [
      "Epoch 1/50\n",
      "26/26 [==============================] - 21s 805ms/step - loss: 0.6705 - accuracy: 0.5937 - val_loss: 0.6999 - val_accuracy: 0.4341\n",
      "Epoch 2/50\n",
      "26/26 [==============================] - 19s 739ms/step - loss: 0.6217 - accuracy: 0.7032 - val_loss: 0.6979 - val_accuracy: 0.4634\n",
      "Epoch 3/50\n",
      "26/26 [==============================] - 19s 738ms/step - loss: 0.5711 - accuracy: 0.7299 - val_loss: 0.5338 - val_accuracy: 0.8390\n",
      "Epoch 4/50\n",
      "25/26 [===========================>..] - ETA: 0s - loss: 0.4920 - accuracy: 0.8075\n",
      "Epoch 00004: ReduceLROnPlateau reducing learning rate to 0.0019999999552965165.\n",
      "26/26 [==============================] - 19s 746ms/step - loss: 0.4888 - accuracy: 0.8102 - val_loss: 0.5486 - val_accuracy: 0.7024\n",
      "Epoch 5/50\n",
      "26/26 [==============================] - 19s 739ms/step - loss: 0.4381 - accuracy: 0.8394 - val_loss: 0.4260 - val_accuracy: 0.8585\n",
      "Epoch 6/50\n",
      "25/26 [===========================>..] - ETA: 0s - loss: 0.4192 - accuracy: 0.8625\n",
      "Epoch 00006: ReduceLROnPlateau reducing learning rate to 0.001.\n",
      "26/26 [==============================] - 19s 734ms/step - loss: 0.4162 - accuracy: 0.8637 - val_loss: 0.4299 - val_accuracy: 0.8585\n",
      "Epoch 7/50\n",
      "26/26 [==============================] - 19s 732ms/step - loss: 0.4048 - accuracy: 0.8747 - val_loss: 0.4037 - val_accuracy: 0.8683\n",
      "Epoch 8/50\n",
      "26/26 [==============================] - 19s 741ms/step - loss: 0.3956 - accuracy: 0.8698 - val_loss: 0.3948 - val_accuracy: 0.8780\n",
      "Epoch 9/50\n",
      "25/26 [===========================>..] - ETA: 0s - loss: 0.3878 - accuracy: 0.8800\n",
      "Epoch 00009: ReduceLROnPlateau reducing learning rate to 0.001.\n",
      "26/26 [==============================] - 19s 731ms/step - loss: 0.3886 - accuracy: 0.8808 - val_loss: 0.3965 - val_accuracy: 0.8829\n",
      "Epoch 10/50\n",
      "26/26 [==============================] - 19s 731ms/step - loss: 0.3817 - accuracy: 0.8796 - val_loss: 0.3922 - val_accuracy: 0.8829\n",
      "Epoch 11/50\n",
      "26/26 [==============================] - 19s 727ms/step - loss: 0.3729 - accuracy: 0.8796 - val_loss: 0.3829 - val_accuracy: 0.8927\n",
      "Epoch 12/50\n",
      "26/26 [==============================] - 19s 727ms/step - loss: 0.3656 - accuracy: 0.8844 - val_loss: 0.3654 - val_accuracy: 0.9024\n",
      "Epoch 13/50\n",
      "26/26 [==============================] - 19s 746ms/step - loss: 0.3605 - accuracy: 0.8893 - val_loss: 0.3548 - val_accuracy: 0.8976\n",
      "Epoch 14/50\n",
      "26/26 [==============================] - 19s 727ms/step - loss: 0.3542 - accuracy: 0.8917 - val_loss: 0.3508 - val_accuracy: 0.9024\n",
      "Epoch 15/50\n",
      "26/26 [==============================] - 19s 727ms/step - loss: 0.3478 - accuracy: 0.8990 - val_loss: 0.3443 - val_accuracy: 0.9024\n",
      "Epoch 16/50\n",
      "25/26 [===========================>..] - ETA: 0s - loss: 0.3386 - accuracy: 0.8950\n",
      "Epoch 00016: ReduceLROnPlateau reducing learning rate to 0.001.\n",
      "26/26 [==============================] - 19s 727ms/step - loss: 0.3398 - accuracy: 0.8929 - val_loss: 0.3494 - val_accuracy: 0.8976\n",
      "Epoch 17/50\n",
      "26/26 [==============================] - 19s 727ms/step - loss: 0.3323 - accuracy: 0.9088 - val_loss: 0.3222 - val_accuracy: 0.9073\n",
      "Epoch 18/50\n",
      "25/26 [===========================>..] - ETA: 0s - loss: 0.3274 - accuracy: 0.9000\n",
      "Epoch 00018: ReduceLROnPlateau reducing learning rate to 0.001.\n",
      "26/26 [==============================] - 19s 723ms/step - loss: 0.3246 - accuracy: 0.9002 - val_loss: 0.3392 - val_accuracy: 0.8976\n",
      "Epoch 19/50\n",
      "26/26 [==============================] - 19s 723ms/step - loss: 0.3225 - accuracy: 0.9002 - val_loss: 0.3164 - val_accuracy: 0.9122\n",
      "Epoch 20/50\n",
      "26/26 [==============================] - 19s 731ms/step - loss: 0.3132 - accuracy: 0.9027 - val_loss: 0.3076 - val_accuracy: 0.9122\n",
      "Epoch 21/50\n",
      "25/26 [===========================>..] - ETA: 0s - loss: 0.3060 - accuracy: 0.9125\n",
      "Epoch 00021: ReduceLROnPlateau reducing learning rate to 0.001.\n",
      "26/26 [==============================] - 19s 727ms/step - loss: 0.3056 - accuracy: 0.9112 - val_loss: 0.3270 - val_accuracy: 0.8976\n",
      "Epoch 22/50\n",
      "26/26 [==============================] - 19s 731ms/step - loss: 0.3014 - accuracy: 0.9063 - val_loss: 0.2945 - val_accuracy: 0.9122\n",
      "Epoch 23/50\n",
      "25/26 [===========================>..] - ETA: 0s - loss: 0.2961 - accuracy: 0.9125\n",
      "Epoch 00023: ReduceLROnPlateau reducing learning rate to 0.001.\n",
      "26/26 [==============================] - 19s 717ms/step - loss: 0.2916 - accuracy: 0.9148 - val_loss: 0.2981 - val_accuracy: 0.9073\n",
      "Epoch 24/50\n",
      "26/26 [==============================] - 19s 736ms/step - loss: 0.2871 - accuracy: 0.9148 - val_loss: 0.2817 - val_accuracy: 0.9171\n",
      "Epoch 25/50\n",
      "26/26 [==============================] - 19s 719ms/step - loss: 0.2819 - accuracy: 0.9136 - val_loss: 0.2781 - val_accuracy: 0.9171\n",
      "Epoch 26/50\n",
      "25/26 [===========================>..] - ETA: 0s - loss: 0.2759 - accuracy: 0.9150\n",
      "Epoch 00026: ReduceLROnPlateau reducing learning rate to 0.001.\n",
      "26/26 [==============================] - 19s 727ms/step - loss: 0.2758 - accuracy: 0.9148 - val_loss: 0.2826 - val_accuracy: 0.9073\n",
      "Epoch 27/50\n",
      "26/26 [==============================] - 19s 735ms/step - loss: 0.2692 - accuracy: 0.9209 - val_loss: 0.2573 - val_accuracy: 0.9268\n",
      "Epoch 28/50\n",
      "25/26 [===========================>..] - ETA: 0s - loss: 0.2652 - accuracy: 0.9187\n",
      "Epoch 00028: ReduceLROnPlateau reducing learning rate to 0.001.\n",
      "26/26 [==============================] - 19s 727ms/step - loss: 0.2609 - accuracy: 0.9209 - val_loss: 0.2574 - val_accuracy: 0.9220\n",
      "Epoch 29/50\n",
      "25/26 [===========================>..] - ETA: 0s - loss: 0.2577 - accuracy: 0.9162\n",
      "Epoch 00029: ReduceLROnPlateau reducing learning rate to 0.001.\n",
      "26/26 [==============================] - 19s 716ms/step - loss: 0.2553 - accuracy: 0.9185 - val_loss: 0.2927 - val_accuracy: 0.9024\n",
      "Epoch 30/50\n",
      "26/26 [==============================] - 19s 730ms/step - loss: 0.2511 - accuracy: 0.9307 - val_loss: 0.2361 - val_accuracy: 0.9366\n",
      "Epoch 31/50\n",
      "25/26 [===========================>..] - ETA: 0s - loss: 0.2457 - accuracy: 0.9237\n",
      "Epoch 00031: ReduceLROnPlateau reducing learning rate to 0.001.\n",
      "26/26 [==============================] - 19s 731ms/step - loss: 0.2445 - accuracy: 0.9246 - val_loss: 0.2583 - val_accuracy: 0.9171\n",
      "Epoch 32/50\n",
      "26/26 [==============================] - 19s 715ms/step - loss: 0.2375 - accuracy: 0.9270 - val_loss: 0.2236 - val_accuracy: 0.9415\n",
      "Epoch 33/50\n",
      "25/26 [===========================>..] - ETA: 0s - loss: 0.2323 - accuracy: 0.9375\n",
      "Epoch 00033: ReduceLROnPlateau reducing learning rate to 0.001.\n",
      "26/26 [==============================] - 19s 713ms/step - loss: 0.2340 - accuracy: 0.9380 - val_loss: 0.2236 - val_accuracy: 0.9415\n",
      "Epoch 34/50\n",
      "26/26 [==============================] - 19s 733ms/step - loss: 0.2254 - accuracy: 0.9380 - val_loss: 0.2166 - val_accuracy: 0.9415\n",
      "Epoch 35/50\n",
      "26/26 [==============================] - 19s 738ms/step - loss: 0.2217 - accuracy: 0.9453 - val_loss: 0.2113 - val_accuracy: 0.9415\n",
      "Epoch 36/50\n",
      "25/26 [===========================>..] - ETA: 0s - loss: 0.2172 - accuracy: 0.9400\n",
      "Epoch 00036: ReduceLROnPlateau reducing learning rate to 0.001.\n",
      "26/26 [==============================] - 19s 739ms/step - loss: 0.2167 - accuracy: 0.9392 - val_loss: 0.2128 - val_accuracy: 0.9415\n",
      "Epoch 37/50\n",
      "26/26 [==============================] - 19s 721ms/step - loss: 0.2107 - accuracy: 0.9428 - val_loss: 0.2050 - val_accuracy: 0.9415\n",
      "Epoch 38/50\n",
      "25/26 [===========================>..] - ETA: 0s - loss: 0.2030 - accuracy: 0.9463\n",
      "Epoch 00038: ReduceLROnPlateau reducing learning rate to 0.001.\n",
      "26/26 [==============================] - 19s 725ms/step - loss: 0.2055 - accuracy: 0.9453 - val_loss: 0.2111 - val_accuracy: 0.9415\n",
      "Epoch 39/50\n",
      "25/26 [===========================>..] - ETA: 0s - loss: 0.2004 - accuracy: 0.9500\n",
      "Epoch 00039: ReduceLROnPlateau reducing learning rate to 0.001.\n",
      "26/26 [==============================] - 18s 711ms/step - loss: 0.1990 - accuracy: 0.9501 - val_loss: 0.2081 - val_accuracy: 0.9415\n",
      "Epoch 40/50\n",
      "26/26 [==============================] - 19s 715ms/step - loss: 0.1970 - accuracy: 0.9526 - val_loss: 0.1865 - val_accuracy: 0.9463\n",
      "Epoch 41/50\n",
      "26/26 [==============================] - 19s 727ms/step - loss: 0.1885 - accuracy: 0.9599 - val_loss: 0.1786 - val_accuracy: 0.9512\n",
      "Epoch 42/50\n",
      "25/26 [===========================>..] - ETA: 0s - loss: 0.1848 - accuracy: 0.9588\n",
      "Epoch 00042: ReduceLROnPlateau reducing learning rate to 0.001.\n",
      "26/26 [==============================] - 19s 731ms/step - loss: 0.1830 - accuracy: 0.9599 - val_loss: 0.1810 - val_accuracy: 0.9463\n",
      "Epoch 43/50\n",
      "26/26 [==============================] - 19s 719ms/step - loss: 0.1798 - accuracy: 0.9586 - val_loss: 0.1733 - val_accuracy: 0.9463\n",
      "Epoch 44/50\n",
      "25/26 [===========================>..] - ETA: 0s - loss: 0.1745 - accuracy: 0.9650\n",
      "Epoch 00044: ReduceLROnPlateau reducing learning rate to 0.001.\n",
      "26/26 [==============================] - 19s 723ms/step - loss: 0.1749 - accuracy: 0.9647 - val_loss: 0.1844 - val_accuracy: 0.9415\n",
      "Epoch 45/50\n",
      "26/26 [==============================] - 19s 719ms/step - loss: 0.1687 - accuracy: 0.9611 - val_loss: 0.1723 - val_accuracy: 0.9463\n",
      "Epoch 46/50\n",
      "25/26 [===========================>..] - ETA: 0s - loss: 0.1664 - accuracy: 0.9638\n",
      "Epoch 00046: ReduceLROnPlateau reducing learning rate to 0.001.\n",
      "26/26 [==============================] - 19s 712ms/step - loss: 0.1669 - accuracy: 0.9635 - val_loss: 0.1741 - val_accuracy: 0.9463\n",
      "Epoch 47/50\n",
      "26/26 [==============================] - 19s 731ms/step - loss: 0.1623 - accuracy: 0.9732 - val_loss: 0.1691 - val_accuracy: 0.9463\n",
      "Epoch 48/50\n",
      "26/26 [==============================] - 19s 728ms/step - loss: 0.1582 - accuracy: 0.9659 - val_loss: 0.1511 - val_accuracy: 0.9610\n",
      "Epoch 49/50\n",
      "25/26 [===========================>..] - ETA: 0s - loss: 0.1534 - accuracy: 0.9762\n",
      "Epoch 00049: ReduceLROnPlateau reducing learning rate to 0.001.\n",
      "26/26 [==============================] - 19s 734ms/step - loss: 0.1533 - accuracy: 0.9769 - val_loss: 0.1791 - val_accuracy: 0.9366\n",
      "Epoch 50/50\n",
      "25/26 [===========================>..] - ETA: 0s - loss: 0.1499 - accuracy: 0.9750\n",
      "Epoch 00050: ReduceLROnPlateau reducing learning rate to 0.001.\n",
      "26/26 [==============================] - 19s 714ms/step - loss: 0.1494 - accuracy: 0.9757 - val_loss: 0.1512 - val_accuracy: 0.9512\n"
     ]
    },
    {
     "data": {
      "text/plain": [
       "<tensorflow.python.keras.callbacks.History at 0x7c05f3857b10>"
      ]
     },
     "execution_count": 20,
     "metadata": {},
     "output_type": "execute_result"
    }
   ],
   "source": [
    "model = build_model(dense_units=256)\n",
    "model.compile(\n",
    "    optimizer='sgd',\n",
    "    loss='sparse_categorical_crossentropy', \n",
    "    metrics=['accuracy'])\n",
    "  \n",
    "model.fit(train_batches, \n",
    "          epochs=50, \n",
    "          validation_data=validation_batches, \n",
    "          callbacks=[ReduceLROnPlateau(monitor='val_loss', \n",
    "                                       factor=0.2, verbose=1,\n",
    "                                       patience=1, min_lr=0.001),\n",
    "                     TensorBoard(log_dir='./log_dir')])"
   ]
  },
  {
   "cell_type": "code",
   "execution_count": 21,
   "metadata": {
    "colab": {},
    "colab_type": "code",
    "id": "isfTWP4NYudk"
   },
   "outputs": [
    {
     "data": {
      "text/plain": [
       "Reusing TensorBoard on port 6007 (pid 5236), started 0:15:50 ago. (Use '!kill 5236' to kill it.)"
      ]
     },
     "metadata": {},
     "output_type": "display_data"
    },
    {
     "data": {
      "text/html": [
       "\n",
       "      <iframe id=\"tensorboard-frame-5f14097901c4e5d1\" width=\"100%\" height=\"800\" frameborder=\"0\">\n",
       "      </iframe>\n",
       "      <script>\n",
       "        (function() {\n",
       "          const frame = document.getElementById(\"tensorboard-frame-5f14097901c4e5d1\");\n",
       "          const url = new URL(\"/\", window.location);\n",
       "          url.port = 6007;\n",
       "          frame.src = url;\n",
       "        })();\n",
       "      </script>\n",
       "  "
      ],
      "text/plain": [
       "<IPython.core.display.HTML object>"
      ]
     },
     "metadata": {},
     "output_type": "display_data"
    }
   ],
   "source": [
    "%tensorboard --logdir log_dir"
   ]
  },
  {
   "cell_type": "code",
   "execution_count": null,
   "metadata": {},
   "outputs": [],
   "source": []
  }
 ],
 "metadata": {
  "colab": {
   "collapsed_sections": [],
   "include_colab_link": true,
   "name": "ExploringCallbacks.ipynb",
   "provenance": []
  },
  "kernelspec": {
   "display_name": "Python 3",
   "language": "python",
   "name": "python3"
  },
  "language_info": {
   "codemirror_mode": {
    "name": "ipython",
    "version": 3
   },
   "file_extension": ".py",
   "mimetype": "text/x-python",
   "name": "python",
   "nbconvert_exporter": "python",
   "pygments_lexer": "ipython3",
   "version": "3.7.6"
  }
 },
 "nbformat": 4,
 "nbformat_minor": 4
}
